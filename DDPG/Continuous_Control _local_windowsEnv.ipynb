{
 "cells": [
  {
   "cell_type": "markdown",
   "metadata": {},
   "source": [
    "# Continuous Control\n",
    "\n",
    "---\n",
    "\n",
    "In this notebook, you will learn how to use the Unity ML-Agents environment for the second project of the [Deep Reinforcement Learning Nanodegree](https://www.udacity.com/course/deep-reinforcement-learning-nanodegree--nd893) program.\n",
    "\n",
    "### 1. Start the Environment\n",
    "\n",
    "We begin by importing the necessary packages.  If the code cell below returns an error, please revisit the project instructions to double-check that you have installed [Unity ML-Agents](https://github.com/Unity-Technologies/ml-agents/blob/master/docs/Installation.md) and [NumPy](http://www.numpy.org/)."
   ]
  },
  {
   "cell_type": "code",
   "execution_count": 1,
   "metadata": {},
   "outputs": [],
   "source": [
    "from unityagents import UnityEnvironment\n",
    "import numpy as np"
   ]
  },
  {
   "cell_type": "code",
   "execution_count": 2,
   "metadata": {},
   "outputs": [],
   "source": [
    "import random\n",
    "import torch\n",
    "import numpy as np\n",
    "import datetime\n",
    "from collections import deque\n",
    "#plot\n",
    "import matplotlib.pyplot as plt\n",
    "%matplotlib inline\n",
    "#Time\n",
    "import datetime\n",
    "import time"
   ]
  },
  {
   "cell_type": "markdown",
   "metadata": {},
   "source": [
    "Next, we will start the environment!  **_Before running the code cell below_**, change the `file_name` parameter to match the location of the Unity environment that you downloaded.\n",
    "\n",
    "- **Mac**: `\"path/to/Reacher.app\"`\n",
    "- **Windows** (x86): `\"path/to/Reacher_Windows_x86/Reacher.exe\"`\n",
    "- **Windows** (x86_64): `\"path/to/Reacher_Windows_x86_64/Reacher.exe\"`\n",
    "- **Linux** (x86): `\"path/to/Reacher_Linux/Reacher.x86\"`\n",
    "- **Linux** (x86_64): `\"path/to/Reacher_Linux/Reacher.x86_64\"`\n",
    "- **Linux** (x86, headless): `\"path/to/Reacher_Linux_NoVis/Reacher.x86\"`\n",
    "- **Linux** (x86_64, headless): `\"path/to/Reacher_Linux_NoVis/Reacher.x86_64\"`\n",
    "\n",
    "For instance, if you are using a Mac, then you downloaded `Reacher.app`.  If this file is in the same folder as the notebook, then the line below should appear as follows:\n",
    "```\n",
    "env = UnityEnvironment(file_name=\"Reacher.app\")\n",
    "```"
   ]
  },
  {
   "cell_type": "code",
   "execution_count": 3,
   "metadata": {},
   "outputs": [
    {
     "name": "stderr",
     "output_type": "stream",
     "text": [
      "INFO:unityagents:\n",
      "'Academy' started successfully!\n",
      "Unity Academy name: Academy\n",
      "        Number of Brains: 1\n",
      "        Number of External Brains : 1\n",
      "        Lesson number : 0\n",
      "        Reset Parameters :\n",
      "\t\tgoal_speed -> 1.0\n",
      "\t\tgoal_size -> 5.0\n",
      "Unity brain name: ReacherBrain\n",
      "        Number of Visual Observations (per agent): 0\n",
      "        Vector Observation space type: continuous\n",
      "        Vector Observation space size (per agent): 33\n",
      "        Number of stacked Vector Observation: 1\n",
      "        Vector Action space type: continuous\n",
      "        Vector Action space size (per agent): 4\n",
      "        Vector Action descriptions: , , , \n"
     ]
    }
   ],
   "source": [
    "env = UnityEnvironment(file_name='.\\Reacher_Windows_x86_64 (1)\\Reacher_Windows_x86_64\\Reacher.exe')"
   ]
  },
  {
   "cell_type": "markdown",
   "metadata": {},
   "source": [
    "Environments contain **_brains_** which are responsible for deciding the actions of their associated agents. Here we check for the first brain available, and set it as the default brain we will be controlling from Python."
   ]
  },
  {
   "cell_type": "code",
   "execution_count": 4,
   "metadata": {},
   "outputs": [],
   "source": [
    "# get the default brain\n",
    "brain_name = env.brain_names[0]\n",
    "brain = env.brains[brain_name]"
   ]
  },
  {
   "cell_type": "markdown",
   "metadata": {},
   "source": [
    "### 2. Examine the State and Action Spaces\n",
    "\n",
    "In this environment, a double-jointed arm can move to target locations. A reward of `+0.1` is provided for each step that the agent's hand is in the goal location. Thus, the goal of your agent is to maintain its position at the target location for as many time steps as possible.\n",
    "\n",
    "The observation space consists of `33` variables corresponding to position, rotation, velocity, and angular velocities of the arm.  Each action is a vector with four numbers, corresponding to torque applicable to two joints.  Every entry in the action vector must be a number between `-1` and `1`.\n",
    "\n",
    "Run the code cell below to print some information about the environment."
   ]
  },
  {
   "cell_type": "code",
   "execution_count": 5,
   "metadata": {},
   "outputs": [
    {
     "name": "stdout",
     "output_type": "stream",
     "text": [
      "Number of agents: 1\n",
      "Size of each action: 4\n",
      "There are 1 agents. Each observes a state with length: 33\n",
      "The state for the first agent looks like: [ 0.00000000e+00 -4.00000000e+00  0.00000000e+00  1.00000000e+00\n",
      " -0.00000000e+00 -0.00000000e+00 -4.37113883e-08  0.00000000e+00\n",
      "  0.00000000e+00  0.00000000e+00  0.00000000e+00  0.00000000e+00\n",
      "  0.00000000e+00  0.00000000e+00 -1.00000000e+01  0.00000000e+00\n",
      "  1.00000000e+00 -0.00000000e+00 -0.00000000e+00 -4.37113883e-08\n",
      "  0.00000000e+00  0.00000000e+00  0.00000000e+00  0.00000000e+00\n",
      "  0.00000000e+00  0.00000000e+00  5.75471878e+00 -1.00000000e+00\n",
      "  5.55726671e+00  0.00000000e+00  1.00000000e+00  0.00000000e+00\n",
      " -1.68164849e-01]\n"
     ]
    }
   ],
   "source": [
    "# reset the environment\n",
    "env_info = env.reset(train_mode=True)[brain_name]\n",
    "\n",
    "# number of agents\n",
    "num_agents = len(env_info.agents)\n",
    "print('Number of agents:', num_agents)\n",
    "\n",
    "# size of each action\n",
    "action_size = brain.vector_action_space_size\n",
    "print('Size of each action:', action_size)\n",
    "\n",
    "# examine the state space \n",
    "states = env_info.vector_observations\n",
    "state_size = states.shape[1]\n",
    "print('There are {} agents. Each observes a state with length: {}'.format(states.shape[0], state_size))\n",
    "print('The state for the first agent looks like:', states[0])"
   ]
  },
  {
   "cell_type": "markdown",
   "metadata": {},
   "source": [
    "### 3. Take Random Actions in the Environment\n",
    "\n",
    "In the next code cell, you will learn how to use the Python API to control the agent and receive feedback from the environment.\n",
    "\n",
    "Once this cell is executed, you will watch the agent's performance, if it selects an action at random with each time step.  A window should pop up that allows you to observe the agent, as it moves through the environment.  \n",
    "\n",
    "Of course, as part of the project, you'll have to change the code so that the agent is able to use its experience to gradually choose better actions when interacting with the environment!"
   ]
  },
  {
   "cell_type": "code",
   "execution_count": 8,
   "metadata": {},
   "outputs": [
    {
     "name": "stdout",
     "output_type": "stream",
     "text": [
      "Total score (averaged over agents) this episode: 0.12999999709427357\n"
     ]
    }
   ],
   "source": [
    "env_info = env.reset(train_mode=False)[brain_name]     # reset the environment    \n",
    "states = env_info.vector_observations                  # get the current state (for each agent)\n",
    "scores = np.zeros(num_agents)                          # initialize the score (for each agent)\n",
    "while True:\n",
    "    actions = np.random.randn(num_agents, action_size) # select an action (for each agent)\n",
    "    #actions = TrainedActor(states).detach().numpy()\n",
    "    actions = np.clip(actions, -1, 1)                  # all actions between -1 and 1\n",
    "    env_info = env.step(actions)[brain_name]           # send all actions to tne environment\n",
    "    next_states = env_info.vector_observations         # get next state (for each agent)\n",
    "    rewards = env_info.rewards                         # get reward (for each agent)\n",
    "    #print ('Rewards',rewards),.l\n",
    "    dones = env_info.local_done                        # see if episode finished\n",
    "    scores += env_info.rewards                         # update the score (for each agent)\n",
    "    #print('Scores' ,scores)\n",
    "    states = next_states                               # roll over states to next time step\n",
    "    if np.any(dones):                                  # exit loop if episode finished\n",
    "        break\n",
    "print('Total score (averaged over agents) this episode: {}'.format(np.mean(scores)))"
   ]
  },
  {
   "cell_type": "code",
   "execution_count": 6,
   "metadata": {},
   "outputs": [],
   "source": [
    "#DeepDeterminsticPolicyGradient DDPG\n",
    "from nn_model import Actor , Critic\n",
    "from agent import DDPGAgent"
   ]
  },
  {
   "cell_type": "code",
   "execution_count": 7,
   "metadata": {},
   "outputs": [
    {
     "name": "stdout",
     "output_type": "stream",
     "text": [
      "Actor(\n",
      "  (fc1): Linear(in_features=33, out_features=24, bias=True)\n",
      "  (fc2): Linear(in_features=24, out_features=48, bias=True)\n",
      "  (fc3): Linear(in_features=48, out_features=4, bias=True)\n",
      ")\n",
      "Critic(\n",
      "  (fcs1): Linear(in_features=33, out_features=24, bias=True)\n",
      "  (fc2): Linear(in_features=28, out_features=48, bias=True)\n",
      "  (fc3): Linear(in_features=48, out_features=1, bias=True)\n",
      ")\n"
     ]
    }
   ],
   "source": [
    "#Test to create the instance of AiAgent\n",
    "#state_size = np.array(state_size)\n",
    "reacherAI = DDPGAgent(state_size,action_size,random_seed=1)\n",
    "print(reacherAI.actor_local)\n",
    "print(reacherAI.critic_local)"
   ]
  },
  {
   "cell_type": "code",
   "execution_count": 13,
   "metadata": {},
   "outputs": [],
   "source": [
    "# Deep Determinsitic Policy Gradient Algorithm\n",
    "# Policy Based -Actor Critic Method\n",
    "# Changes:\n",
    "    #Reward plot for Avg Agent's score for each episode\n",
    "    #Added learning at every state change\n",
    "\n",
    "def Ddpg(n_episodes=1000, max_t=300, print_every=100):\n",
    "    \n",
    "    scores_ddpg = []                           #Final Scores to Plot\n",
    "    rewards_plot = []\n",
    "    episode_reward=np.zeros(num_agents) \n",
    "    scores = np.zeros(num_agents)              #Reward for the Episodes reset\n",
    "    scores_window = deque(maxlen=print_every)  #Window for every 100 episodes\n",
    "    \n",
    "    for i_episode in range(1, n_episodes+1):\n",
    "        #reset the unity Env_info for each new episode\n",
    "        env_info = env.reset(train_mode=True)[brain_name]\n",
    "        \n",
    "        #set initial state\n",
    "        state = env_info.vector_observations  #[0] Current state \n",
    "        #Reset\n",
    "        reacherAI.reset()\n",
    "        rewards = 0\n",
    "        counter_i=0\n",
    "        episode_reward=np.zeros(num_agents) \n",
    "        #For each Episode,  take max steps and record the state and reward information until Episode complete       \n",
    "        while True: # t in range(max_t):\n",
    "            #Select action based on  policy based\n",
    "            action = reacherAI.act(state)\n",
    "            action = np.clip(action, -1, 1)          #all actions between -1 and 1\n",
    "            \n",
    "            env_info = env.step(action)[brain_name]   #Perform 'action'\n",
    "            next_state = env_info.vector_observations #Next env state info \n",
    "            rewards = env_info.rewards                 #reward +0.1 for every timestep\n",
    "            done   = env_info.local_done              #Episode complete\n",
    "            \n",
    "            scores += rewards                          #Accumulate Rewards\n",
    "            state = next_state                        #mark new state as current state\n",
    "            episode_reward+=rewards\n",
    "            \n",
    "            if np.any(done):\n",
    "                reacherAI.step (state, action,rewards,next_state,done) \n",
    "                #rewards_plot.append(episode_reward)              #Rewards from each episode's steps\n",
    "                rewards_plot.append(np.mean(scores))              #Avg Score for each episode\n",
    "                scores_window.append(episode_reward)             #Print the windows score\n",
    "                break             \n",
    "            \n",
    "        #Uncomment when you want to check the scores for  each episode \n",
    "        #print('Total score (averaged over agents) this episode {}\\t: {}'.format(i_episode,np.mean(scores)))  \n",
    "        \n",
    "        if i_episode % 50 == 0:\n",
    "            print('\\rEpisode {}\\tAverage  Score: {:.4f}\\t AcScore {:.4f}'.format(i_episode, np.mean(scores_window),np.mean(scores)))\n",
    "            torch.save(reacherAI.actor_local.state_dict(), 'checkpoint_actor.pth')\n",
    "            torch.save(reacherAI.critic_local.state_dict(), 'checkpoint_critic.pth')\n",
    "        if np.mean(scores)>=30.0 and i_episode>900: \n",
    "            print('\\nEnvironment solved in {:d} episodes!\\tAverage Score: {:.4f}'.format(i_episode, np.mean(scores)))\n",
    "            torch.save(reacherAI.actor_local.state_dict(), 'checkpoint_actor30.pth')\n",
    "            torch.save(reacherAI.critic_local.state_dict(), 'checkpoint_critic30.pth')\n",
    "            break\n",
    "              \n",
    "                   \n",
    "    return rewards_plot\n",
    "#Latest24"
   ]
  },
  {
   "cell_type": "code",
   "execution_count": null,
   "metadata": {},
   "outputs": [
    {
     "name": "stdout",
     "output_type": "stream",
     "text": [
      "2020-07-24 20:03:30.826207\n"
     ]
    },
    {
     "name": "stderr",
     "output_type": "stream",
     "text": [
      "C:\\Users\\senth\\.conda\\envs\\drlnd\\lib\\site-packages\\torch\\nn\\functional.py:1558: UserWarning: nn.functional.tanh is deprecated. Use torch.tanh instead.\n",
      "  warnings.warn(\"nn.functional.tanh is deprecated. Use torch.tanh instead.\")\n"
     ]
    }
   ],
   "source": [
    "# Iteration Ver 17.1 Over 900 Episodes  - just to see the learning curve\n",
    "#BUFFER_SIZE = 500000    #int(1e4)  # replay buffer size\n",
    "#BATCH_SIZE = 256       #128        # minibatch size\n",
    "#GAMMA = 0.997            # discount factor\n",
    "#TAU = 0.0013              # for soft update of target parameters\n",
    "#LR_ACTOR = 0.00013         # learning rate of the actor \n",
    "#LR_CRITIC = 0.0001        # learning rate of the critic\n",
    "#WEIGHT_DECAY = 0        # L2 weight decay\n",
    "\n",
    "#Noise mu=0., theta=0.17, sigma=0.24\n",
    "#Random seed = 1\n",
    "start = datetime.datetime.now()\n",
    "print (start)\n",
    "scores = Ddpg(n_episodes=1000)\n",
    "endtime = datetime.datetime.now() -start\n",
    "print (endtime)\n",
    "\n",
    "fig = plt.figure()\n",
    "ax = fig.add_subplot(111)\n",
    "plt.plot(np.arange(1, len(scores)+1), scores)\n",
    "plt.ylabel('Score')\n",
    "plt.xlabel('Episode #')\n",
    "plt.show()"
   ]
  },
  {
   "cell_type": "code",
   "execution_count": 10,
   "metadata": {},
   "outputs": [
    {
     "name": "stdout",
     "output_type": "stream",
     "text": [
      "2020-07-24 19:53:44.791327\n"
     ]
    },
    {
     "name": "stderr",
     "output_type": "stream",
     "text": [
      "C:\\Users\\senth\\.conda\\envs\\drlnd\\lib\\site-packages\\torch\\nn\\functional.py:1558: UserWarning: nn.functional.tanh is deprecated. Use torch.tanh instead.\n",
      "  warnings.warn(\"nn.functional.tanh is deprecated. Use torch.tanh instead.\")\n"
     ]
    },
    {
     "name": "stdout",
     "output_type": "stream",
     "text": [
      "Episode 100\tAverage  Score: 0.6680\t AcScore 66.8000\n",
      "\n",
      "Environment solved in 101 episodes!\tAverage Score: 67.1200\n",
      "0:06:24.060748\n"
     ]
    },
    {
     "data": {
      "image/png": "[encoded data removed]",
      "text/plain": [
       "<Figure size 432x288 with 1 Axes>"
      ]
     },
     "metadata": {
      "needs_background": "light"
     },
     "output_type": "display_data"
    }
   ],
   "source": [
    "# Iteration Ver 17.1 Over 100 Episodes  - Corrected Noise and (samples) from the â€œstandard normalâ€ distribution.\n",
    "#BUFFER_SIZE = 500000    #int(1e4)  # replay buffer size\n",
    "#BATCH_SIZE = 256       #128        # minibatch size\n",
    "#GAMMA = 0.997            # discount factor\n",
    "#TAU = 0.0013              # for soft update of target parameters\n",
    "#LR_ACTOR = 0.00013         # learning rate of the actor \n",
    "#LR_CRITIC = 0.0001        # learning rate of the critic\n",
    "#WEIGHT_DECAY = 0        # L2 weight decay\n",
    "\n",
    "#Noise mu=0., theta=0.17, sigma=0.24\n",
    "#Random seed = 1\n",
    "start = datetime.datetime.now()\n",
    "print (start)\n",
    "scores = Ddpg(n_episodes=1000)\n",
    "endtime = datetime.datetime.now() -start\n",
    "print (endtime)\n",
    "\n",
    "fig = plt.figure()\n",
    "ax = fig.add_subplot(111)\n",
    "plt.plot(np.arange(1, len(scores)+1), scores)\n",
    "plt.ylabel('Score')\n",
    "plt.xlabel('Episode #')\n",
    "plt.show()"
   ]
  },
  {
   "cell_type": "code",
   "execution_count": 10,
   "metadata": {},
   "outputs": [
    {
     "name": "stdout",
     "output_type": "stream",
     "text": [
      "2020-07-24 14:01:15.057867\n"
     ]
    },
    {
     "name": "stderr",
     "output_type": "stream",
     "text": [
      "C:\\Users\\senth\\.conda\\envs\\drlnd\\lib\\site-packages\\torch\\nn\\functional.py:1558: UserWarning: nn.functional.tanh is deprecated. Use torch.tanh instead.\n",
      "  warnings.warn(\"nn.functional.tanh is deprecated. Use torch.tanh instead.\")\n"
     ]
    },
    {
     "name": "stdout",
     "output_type": "stream",
     "text": [
      "Total score (averaged over agents) this episode 1\t: 0.42999999038875103\n",
      "Total score (averaged over agents) this episode 2\t: 0.9599999785423279\n",
      "Total score (averaged over agents) this episode 3\t: 2.079999953508377\n",
      "Total score (averaged over agents) this episode 4\t: 2.869999935850501\n",
      "Total score (averaged over agents) this episode 5\t: 3.4399999231100082\n",
      "Total score (averaged over agents) this episode 6\t: 5.14999988488853\n",
      "Total score (averaged over agents) this episode 7\t: 5.329999880865216\n",
      "Total score (averaged over agents) this episode 8\t: 5.9699998665601015\n",
      "Total score (averaged over agents) this episode 9\t: 7.799999825656414\n",
      "Total score (averaged over agents) this episode 10\t: 8.799999803304672\n",
      "Episode 10\tAverage  Score: 0.8800\t AcScore 8.8000\n",
      "Total score (averaged over agents) this episode 11\t: 9.619999784976244\n",
      "Total score (averaged over agents) this episode 12\t: 11.34999974630773\n",
      "Total score (averaged over agents) this episode 13\t: 11.609999740496278\n",
      "Total score (averaged over agents) this episode 14\t: 11.609999740496278\n",
      "Total score (averaged over agents) this episode 15\t: 12.42999972216785\n",
      "Total score (averaged over agents) this episode 16\t: 13.259999703615904\n",
      "Total score (averaged over agents) this episode 17\t: 14.129999684169888\n",
      "Total score (averaged over agents) this episode 18\t: 14.509999675676227\n",
      "Total score (averaged over agents) this episode 19\t: 14.999999664723873\n",
      "Total score (averaged over agents) this episode 20\t: 15.089999662712216\n",
      "Episode 20\tAverage  Score: 0.7545\t AcScore 15.0900\n",
      "Total score (averaged over agents) this episode 21\t: 16.389999633654952\n",
      "Total score (averaged over agents) this episode 22\t: 17.209999615326524\n",
      "Total score (averaged over agents) this episode 23\t: 17.57999960705638\n",
      "Total score (averaged over agents) this episode 24\t: 18.149999594315886\n",
      "Total score (averaged over agents) this episode 25\t: 18.999999575316906\n",
      "Total score (averaged over agents) this episode 26\t: 20.25999954715371\n",
      "Total score (averaged over agents) this episode 27\t: 20.94999953173101\n",
      "Total score (averaged over agents) this episode 28\t: 21.629999516531825\n",
      "Total score (averaged over agents) this episode 29\t: 22.42999949865043\n",
      "Total score (averaged over agents) this episode 30\t: 22.88999948836863\n",
      "Episode 30\tAverage  Score: 0.7630\t AcScore 22.8900\n",
      "Total score (averaged over agents) this episode 31\t: 24.289999457076192\n",
      "Total score (averaged over agents) this episode 32\t: 25.889999421313405\n",
      "Total score (averaged over agents) this episode 33\t: 26.25999941304326\n",
      "Total score (averaged over agents) this episode 34\t: 26.71999940276146\n",
      "Total score (averaged over agents) this episode 35\t: 27.549999384209514\n",
      "Total score (averaged over agents) this episode 36\t: 27.799999378621578\n",
      "Total score (averaged over agents) this episode 37\t: 29.019999351352453\n",
      "Total score (averaged over agents) this episode 38\t: 29.179999347776175\n",
      "Total score (averaged over agents) this episode 39\t: 29.799999333918095\n",
      "Total score (averaged over agents) this episode 40\t: 30.069999327883124\n",
      "Episode 40\tAverage  Score: 0.7517\t AcScore 30.0700\n",
      "\n",
      "Environment solved in 40 episodes!\tAverage Score: 30.0700\n",
      "0:02:11.374991\n"
     ]
    },
    {
     "data": {
      "image/png": "[encoded data removed]",
      "text/plain": [
       "<Figure size 432x288 with 1 Axes>"
      ]
     },
     "metadata": {
      "needs_background": "light"
     },
     "output_type": "display_data"
    }
   ],
   "source": [
    "# Iteration Ver 17  - Corrected Noise and (samples) from the â€œstandard normalâ€ distribution.\n",
    "#BUFFER_SIZE = 500000    #int(1e4)  # replay buffer size\n",
    "#BATCH_SIZE = 256       #128        # minibatch size\n",
    "#GAMMA = 0.997            # discount factor\n",
    "#TAU = 0.0013              # for soft update of target parameters\n",
    "#LR_ACTOR = 0.00013         # learning rate of the actor \n",
    "#LR_CRITIC = 0.0001        # learning rate of the critic\n",
    "#WEIGHT_DECAY = 0        # L2 weight decay\n",
    "\n",
    "#Noise mu=0., theta=0.17, sigma=0.24\n",
    "#Random seed = 1\n",
    "start = datetime.datetime.now()\n",
    "print (start)\n",
    "scores = Ddpg(n_episodes=500)\n",
    "endtime = datetime.datetime.now() -start\n",
    "print (endtime)\n",
    "\n",
    "fig = plt.figure()\n",
    "ax = fig.add_subplot(111)\n",
    "plt.plot(np.arange(1, len(scores)+1), scores)\n",
    "plt.ylabel('Score')\n",
    "plt.xlabel('Episode #')\n",
    "plt.show()"
   ]
  },
  {
   "cell_type": "code",
   "execution_count": 11,
   "metadata": {},
   "outputs": [
    {
     "data": {
      "image/png": "[encoded data removed]",
      "text/plain": [
       "<Figure size 432x288 with 1 Axes>"
      ]
     },
     "metadata": {
      "needs_background": "light"
     },
     "output_type": "display_data"
    }
   ],
   "source": [
    "#Plot with average line >30\n",
    "fig = plt.figure()\n",
    "ax = fig.add_subplot(111)\n",
    "plt.plot(np.arange(1, len(scores)+1), scores)\n",
    "plt.plot(np.arange(len(scores)), 30*np.ones(len(scores)))# print avg score 30\n",
    "plt.ylabel('Score')\n",
    "plt.xlabel('Episode #')\n",
    "plt.show()\n"
   ]
  },
  {
   "cell_type": "code",
   "execution_count": 12,
   "metadata": {},
   "outputs": [],
   "source": [
    "#backup for Reward plots \n",
    "scores_Epi40 = scores"
   ]
  },
  {
   "cell_type": "markdown",
   "metadata": {},
   "source": [
    "# Watch the Trained Agent - Loading the weights and Test\n"
   ]
  },
  {
   "cell_type": "code",
   "execution_count": 13,
   "metadata": {},
   "outputs": [
    {
     "name": "stderr",
     "output_type": "stream",
     "text": [
      "C:\\Users\\senth\\.conda\\envs\\drlnd\\lib\\site-packages\\torch\\nn\\functional.py:1558: UserWarning: nn.functional.tanh is deprecated. Use torch.tanh instead.\n",
      "  warnings.warn(\"nn.functional.tanh is deprecated. Use torch.tanh instead.\")\n"
     ]
    },
    {
     "name": "stdout",
     "output_type": "stream",
     "text": [
      "Total score (averaged over agents) this episode: 0.3899999912828207\n"
     ]
    }
   ],
   "source": [
    "reacherAI.actor_local.load_state_dict(torch.load('checkpoint_actor30.pth'))\n",
    "reacherAI.critic_local.load_state_dict(torch.load('checkpoint_critic30.pth'))\n",
    "\n",
    "env_info = env.reset(train_mode=False)[brain_name]\n",
    "scores = np.zeros(num_agents)       \n",
    "#set initial state\n",
    "state = env_info.vector_observations\n",
    "\n",
    "while True:\n",
    "    action = reacherAI.act(state, add_noise=True)\n",
    "    env_info = env.step(action)[brain_name]\n",
    "    next_state = env_info.vector_observations\n",
    "    reward = env_info.rewards\n",
    "    done   = env_info.local_done\n",
    "    scores += reward                       \n",
    "    state = next_state\n",
    "           \n",
    "    if np.any(done):\n",
    "        break\n",
    "print('Total score (averaged over agents) this episode: {}'.format(np.mean(scores)))  "
   ]
  },
  {
   "cell_type": "code",
   "execution_count": 14,
   "metadata": {},
   "outputs": [],
   "source": [
    "#Environment Close\n",
    "env.close()"
   ]
  }
 ],
 "metadata": {
  "kernelspec": {
   "display_name": "drlnd",
   "language": "python",
   "name": "drlnd"
  },
  "language_info": {
   "codemirror_mode": {
    "name": "ipython",
    "version": 3
   },
   "file_extension": ".py",
   "mimetype": "text/x-python",
   "name": "python",
   "nbconvert_exporter": "python",
   "pygments_lexer": "ipython3",
   "version": "3.6.10"
  }
 },
 "nbformat": 4,
 "nbformat_minor": 2
}
