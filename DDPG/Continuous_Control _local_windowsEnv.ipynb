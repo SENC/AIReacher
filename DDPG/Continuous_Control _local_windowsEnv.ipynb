{
 "cells": [
  {
   "cell_type": "markdown",
   "metadata": {},
   "source": [
    "# Continuous Control\n",
    "\n",
    "---\n",
    "\n",
    "In this notebook, you will learn how to use the Unity ML-Agents environment for the second project of the [Deep Reinforcement Learning Nanodegree](https://www.udacity.com/course/deep-reinforcement-learning-nanodegree--nd893) program.\n",
    "\n",
    "### 1. Start the Environment\n",
    "\n",
    "We begin by importing the necessary packages.  If the code cell below returns an error, please revisit the project instructions to double-check that you have installed [Unity ML-Agents](https://github.com/Unity-Technologies/ml-agents/blob/master/docs/Installation.md) and [NumPy](http://www.numpy.org/)."
   ]
  },
  {
   "cell_type": "code",
   "execution_count": 1,
   "metadata": {},
   "outputs": [],
   "source": [
    "from unityagents import UnityEnvironment\n",
    "import numpy as np"
   ]
  },
  {
   "cell_type": "code",
   "execution_count": 2,
   "metadata": {},
   "outputs": [],
   "source": [
    "import random\n",
    "import torch\n",
    "import numpy as np\n",
    "import datetime\n",
    "from collections import deque\n",
    "#plot\n",
    "import matplotlib.pyplot as plt\n",
    "%matplotlib inline\n",
    "#Time\n",
    "import datetime\n",
    "import time"
   ]
  },
  {
   "cell_type": "markdown",
   "metadata": {},
   "source": [
    "Next, we will start the environment!  **_Before running the code cell below_**, change the `file_name` parameter to match the location of the Unity environment that you downloaded.\n",
    "\n",
    "- **Mac**: `\"path/to/Reacher.app\"`\n",
    "- **Windows** (x86): `\"path/to/Reacher_Windows_x86/Reacher.exe\"`\n",
    "- **Windows** (x86_64): `\"path/to/Reacher_Windows_x86_64/Reacher.exe\"`\n",
    "- **Linux** (x86): `\"path/to/Reacher_Linux/Reacher.x86\"`\n",
    "- **Linux** (x86_64): `\"path/to/Reacher_Linux/Reacher.x86_64\"`\n",
    "- **Linux** (x86, headless): `\"path/to/Reacher_Linux_NoVis/Reacher.x86\"`\n",
    "- **Linux** (x86_64, headless): `\"path/to/Reacher_Linux_NoVis/Reacher.x86_64\"`\n",
    "\n",
    "For instance, if you are using a Mac, then you downloaded `Reacher.app`.  If this file is in the same folder as the notebook, then the line below should appear as follows:\n",
    "```\n",
    "env = UnityEnvironment(file_name=\"Reacher.app\")\n",
    "```"
   ]
  },
  {
   "cell_type": "code",
   "execution_count": 3,
   "metadata": {},
   "outputs": [
    {
     "name": "stderr",
     "output_type": "stream",
     "text": [
      "INFO:unityagents:\n",
      "'Academy' started successfully!\n",
      "Unity Academy name: Academy\n",
      "        Number of Brains: 1\n",
      "        Number of External Brains : 1\n",
      "        Lesson number : 0\n",
      "        Reset Parameters :\n",
      "\t\tgoal_speed -> 1.0\n",
      "\t\tgoal_size -> 5.0\n",
      "Unity brain name: ReacherBrain\n",
      "        Number of Visual Observations (per agent): 0\n",
      "        Vector Observation space type: continuous\n",
      "        Vector Observation space size (per agent): 33\n",
      "        Number of stacked Vector Observation: 1\n",
      "        Vector Action space type: continuous\n",
      "        Vector Action space size (per agent): 4\n",
      "        Vector Action descriptions: , , , \n"
     ]
    }
   ],
   "source": [
    "env = UnityEnvironment(file_name='.\\Reacher_Windows_x86_64 (1)\\Reacher_Windows_x86_64\\Reacher.exe')"
   ]
  },
  {
   "cell_type": "markdown",
   "metadata": {},
   "source": [
    "Environments contain **_brains_** which are responsible for deciding the actions of their associated agents. Here we check for the first brain available, and set it as the default brain we will be controlling from Python."
   ]
  },
  {
   "cell_type": "code",
   "execution_count": 4,
   "metadata": {},
   "outputs": [],
   "source": [
    "# get the default brain\n",
    "brain_name = env.brain_names[0]\n",
    "brain = env.brains[brain_name]"
   ]
  },
  {
   "cell_type": "markdown",
   "metadata": {},
   "source": [
    "### 2. Examine the State and Action Spaces\n",
    "\n",
    "In this environment, a double-jointed arm can move to target locations. A reward of `+0.1` is provided for each step that the agent's hand is in the goal location. Thus, the goal of your agent is to maintain its position at the target location for as many time steps as possible.\n",
    "\n",
    "The observation space consists of `33` variables corresponding to position, rotation, velocity, and angular velocities of the arm.  Each action is a vector with four numbers, corresponding to torque applicable to two joints.  Every entry in the action vector must be a number between `-1` and `1`.\n",
    "\n",
    "Run the code cell below to print some information about the environment."
   ]
  },
  {
   "cell_type": "code",
   "execution_count": 5,
   "metadata": {},
   "outputs": [
    {
     "name": "stdout",
     "output_type": "stream",
     "text": [
      "Number of agents: 1\n",
      "Size of each action: 4\n",
      "There are 1 agents. Each observes a state with length: 33\n",
      "The state for the first agent looks like: [ 0.00000000e+00 -4.00000000e+00  0.00000000e+00  1.00000000e+00\n",
      " -0.00000000e+00 -0.00000000e+00 -4.37113883e-08  0.00000000e+00\n",
      "  0.00000000e+00  0.00000000e+00  0.00000000e+00  0.00000000e+00\n",
      "  0.00000000e+00  0.00000000e+00 -1.00000000e+01  0.00000000e+00\n",
      "  1.00000000e+00 -0.00000000e+00 -0.00000000e+00 -4.37113883e-08\n",
      "  0.00000000e+00  0.00000000e+00  0.00000000e+00  0.00000000e+00\n",
      "  0.00000000e+00  0.00000000e+00  5.75471878e+00 -1.00000000e+00\n",
      "  5.55726671e+00  0.00000000e+00  1.00000000e+00  0.00000000e+00\n",
      " -1.68164849e-01]\n"
     ]
    }
   ],
   "source": [
    "# reset the environment\n",
    "env_info = env.reset(train_mode=True)[brain_name]\n",
    "\n",
    "# number of agents\n",
    "num_agents = len(env_info.agents)\n",
    "print('Number of agents:', num_agents)\n",
    "\n",
    "# size of each action\n",
    "action_size = brain.vector_action_space_size\n",
    "print('Size of each action:', action_size)\n",
    "\n",
    "# examine the state space \n",
    "states = env_info.vector_observations\n",
    "state_size = states.shape[1]\n",
    "print('There are {} agents. Each observes a state with length: {}'.format(states.shape[0], state_size))\n",
    "print('The state for the first agent looks like:', states[0])"
   ]
  },
  {
   "cell_type": "markdown",
   "metadata": {},
   "source": [
    "### 3. Take Random Actions in the Environment\n",
    "\n",
    "In the next code cell, you will learn how to use the Python API to control the agent and receive feedback from the environment.\n",
    "\n",
    "Once this cell is executed, you will watch the agent's performance, if it selects an action at random with each time step.  A window should pop up that allows you to observe the agent, as it moves through the environment.  \n",
    "\n",
    "Of course, as part of the project, you'll have to change the code so that the agent is able to use its experience to gradually choose better actions when interacting with the environment!"
   ]
  },
  {
   "cell_type": "code",
   "execution_count": 8,
   "metadata": {},
   "outputs": [
    {
     "name": "stdout",
     "output_type": "stream",
     "text": [
      "Total score (averaged over agents) this episode: 0.12999999709427357\n"
     ]
    }
   ],
   "source": [
    "env_info = env.reset(train_mode=False)[brain_name]     # reset the environment    \n",
    "states = env_info.vector_observations                  # get the current state (for each agent)\n",
    "scores = np.zeros(num_agents)                          # initialize the score (for each agent)\n",
    "while True:\n",
    "    actions = np.random.randn(num_agents, action_size) # select an action (for each agent)\n",
    "    #actions = TrainedActor(states).detach().numpy()\n",
    "    actions = np.clip(actions, -1, 1)                  # all actions between -1 and 1\n",
    "    env_info = env.step(actions)[brain_name]           # send all actions to tne environment\n",
    "    next_states = env_info.vector_observations         # get next state (for each agent)\n",
    "    rewards = env_info.rewards                         # get reward (for each agent)\n",
    "    #print ('Rewards',rewards),.l\n",
    "    dones = env_info.local_done                        # see if episode finished\n",
    "    scores += env_info.rewards                         # update the score (for each agent)\n",
    "    #print('Scores' ,scores)\n",
    "    states = next_states                               # roll over states to next time step\n",
    "    if np.any(dones):                                  # exit loop if episode finished\n",
    "        break\n",
    "print('Total score (averaged over agents) this episode: {}'.format(np.mean(scores)))"
   ]
  },
  {
   "cell_type": "code",
   "execution_count": 6,
   "metadata": {},
   "outputs": [],
   "source": [
    "#DeepDeterminsticPolicyGradient DDPG\n",
    "from nn_model import Actor , Critic\n",
    "from agent import DDPGAgent"
   ]
  },
  {
   "cell_type": "code",
   "execution_count": 7,
   "metadata": {},
   "outputs": [
    {
     "name": "stdout",
     "output_type": "stream",
     "text": [
      "Actor(\n",
      "  (fc1): Linear(in_features=33, out_features=24, bias=True)\n",
      "  (fc2): Linear(in_features=24, out_features=48, bias=True)\n",
      "  (fc3): Linear(in_features=48, out_features=4, bias=True)\n",
      ")\n",
      "Critic(\n",
      "  (fcs1): Linear(in_features=33, out_features=24, bias=True)\n",
      "  (fc2): Linear(in_features=28, out_features=48, bias=True)\n",
      "  (fc3): Linear(in_features=48, out_features=1, bias=True)\n",
      ")\n"
     ]
    }
   ],
   "source": [
    "#Test to create the instance of AiAgent\n",
    "#state_size = np.array(state_size)\n",
    "reacherAI = DDPGAgent(state_size,action_size,random_seed=1)\n",
    "print(reacherAI.actor_local)\n",
    "print(reacherAI.critic_local)"
   ]
  },
  {
   "cell_type": "code",
   "execution_count": 13,
   "metadata": {},
   "outputs": [],
   "source": [
    "# Deep Determinsitic Policy Gradient Algorithm\n",
    "# Policy Based -Actor Critic Method\n",
    "# Changes:\n",
    "    #Reward plot for Avg Agent's score for each episode\n",
    "    #Added learning at every state change\n",
    "\n",
    "def Ddpg(n_episodes=1000, max_t=300, print_every=100):\n",
    "    \n",
    "    scores_ddpg = []                           #Final Scores to Plot\n",
    "    rewards_plot = []\n",
    "    episode_reward=np.zeros(num_agents) \n",
    "    scores = np.zeros(num_agents)              #Reward for the Episodes reset\n",
    "    scores_window = deque(maxlen=print_every)  #Window for every 100 episodes\n",
    "    \n",
    "    for i_episode in range(1, n_episodes+1):\n",
    "        #reset the unity Env_info for each new episode\n",
    "        env_info = env.reset(train_mode=True)[brain_name]\n",
    "        \n",
    "        #set initial state\n",
    "        state = env_info.vector_observations  #[0] Current state \n",
    "        #Reset\n",
    "        reacherAI.reset()\n",
    "        rewards = 0\n",
    "        counter_i=0\n",
    "        episode_reward=np.zeros(num_agents) \n",
    "        #For each Episode,  take max steps and record the state and reward information until Episode complete       \n",
    "        while True: # t in range(max_t):\n",
    "            #Select action based on  policy based\n",
    "            action = reacherAI.act(state)\n",
    "            action = np.clip(action, -1, 1)          #all actions between -1 and 1\n",
    "            \n",
    "            env_info = env.step(action)[brain_name]   #Perform 'action'\n",
    "            next_state = env_info.vector_observations #Next env state info \n",
    "            rewards = env_info.rewards                 #reward +0.1 for every timestep\n",
    "            done   = env_info.local_done              #Episode complete\n",
    "            \n",
    "            scores += rewards                          #Accumulate Rewards\n",
    "            state = next_state                        #mark new state as current state\n",
    "            episode_reward+=rewards\n",
    "            \n",
    "            if np.any(done):\n",
    "                reacherAI.step (state, action,rewards,next_state,done) \n",
    "                #rewards_plot.append(episode_reward)              #Rewards from each episode's steps\n",
    "                rewards_plot.append(np.mean(scores))              #Avg Score for each episode\n",
    "                scores_window.append(episode_reward)             #Print the windows score\n",
    "                break             \n",
    "            \n",
    "        #Uncomment when you want to check the scores for  each episode \n",
    "        #print('Total score (averaged over agents) this episode {}\\t: {}'.format(i_episode,np.mean(scores)))  \n",
    "        \n",
    "        if i_episode % 50 == 0:\n",
    "            print('\\rEpisode {}\\tAverage  Score: {:.4f}\\t AcScore {:.4f}'.format(i_episode, np.mean(scores_window),np.mean(scores)))\n",
    "            torch.save(reacherAI.actor_local.state_dict(), 'checkpoint_actor.pth')\n",
    "            torch.save(reacherAI.critic_local.state_dict(), 'checkpoint_critic.pth')\n",
    "        if np.mean(scores)>=30.0 and i_episode>900: \n",
    "            print('\\nEnvironment solved in {:d} episodes!\\tAverage Score: {:.4f}'.format(i_episode, np.mean(scores)))\n",
    "            torch.save(reacherAI.actor_local.state_dict(), 'checkpoint_actor30.pth')\n",
    "            torch.save(reacherAI.critic_local.state_dict(), 'checkpoint_critic30.pth')\n",
    "            break\n",
    "              \n",
    "                   \n",
    "    return rewards_plot\n",
    "#Latest24"
   ]
  },
  {
   "cell_type": "code",
   "execution_count": 14,
   "metadata": {},
   "outputs": [
    {
     "name": "stdout",
     "output_type": "stream",
     "text": [
      "2020-07-24 20:03:30.826207\n"
     ]
    },
    {
     "name": "stderr",
     "output_type": "stream",
     "text": [
      "C:\\Users\\senth\\.conda\\envs\\drlnd\\lib\\site-packages\\torch\\nn\\functional.py:1558: UserWarning: nn.functional.tanh is deprecated. Use torch.tanh instead.\n",
      "  warnings.warn(\"nn.functional.tanh is deprecated. Use torch.tanh instead.\")\n"
     ]
    },
    {
     "name": "stdout",
     "output_type": "stream",
     "text": [
      "Episode 50\tAverage  Score: 0.6976\t AcScore 34.8800\n",
      "Episode 100\tAverage  Score: 0.7953\t AcScore 79.5300\n",
      "Episode 150\tAverage  Score: 0.8407\t AcScore 118.9500\n",
      "Episode 200\tAverage  Score: 0.7239\t AcScore 151.9200\n",
      "Episode 250\tAverage  Score: 0.7645\t AcScore 195.4000\n",
      "Episode 300\tAverage  Score: 0.8389\t AcScore 235.8100\n",
      "Episode 350\tAverage  Score: 0.8346\t AcScore 278.8600\n",
      "Episode 400\tAverage  Score: 0.8271\t AcScore 318.5200\n",
      "Episode 450\tAverage  Score: 0.8158\t AcScore 360.4400\n",
      "Episode 500\tAverage  Score: 0.8793\t AcScore 406.4500\n",
      "Episode 550\tAverage  Score: 0.9725\t AcScore 457.6900\n",
      "Episode 600\tAverage  Score: 0.9749\t AcScore 503.9400\n",
      "Episode 650\tAverage  Score: 0.9208\t AcScore 549.7700\n",
      "Episode 700\tAverage  Score: 0.8882\t AcScore 592.7600\n",
      "Episode 750\tAverage  Score: 0.8633\t AcScore 636.1000\n",
      "Episode 800\tAverage  Score: 0.8108\t AcScore 673.8400\n",
      "Episode 850\tAverage  Score: 0.7214\t AcScore 708.2400\n",
      "Episode 900\tAverage  Score: 0.6578\t AcScore 739.6200\n",
      "\n",
      "Environment solved in 901 episodes!\tAverage Score: 739.9600\n",
      "0:59:17.243914\n"
     ]
    },
    {
     "data": {
      "image/png": "[encoded data removed]",
      "text/plain": [
       "<Figure size 432x288 with 1 Axes>"
      ]
     },
     "metadata": {
      "needs_background": "light"
     },
     "output_type": "display_data"
    }
   ],
   "source": [
    "# Iteration Ver 17.1 Over 900 Episodes  - just to see the learning curve\n",
    "#BUFFER_SIZE = 500000    #int(1e4)  # replay buffer size\n",
    "#BATCH_SIZE = 256       #128        # minibatch size\n",
    "#GAMMA = 0.997            # discount factor\n",
    "#TAU = 0.0013              # for soft update of target parameters\n",
    "#LR_ACTOR = 0.00013         # learning rate of the actor \n",
    "#LR_CRITIC = 0.0001        # learning rate of the critic\n",
    "#WEIGHT_DECAY = 0        # L2 weight decay\n",
    "\n",
    "#Noise mu=0., theta=0.17, sigma=0.24\n",
    "#Random seed = 1\n",
    "start = datetime.datetime.now()\n",
    "print (start)\n",
    "scores = Ddpg(n_episodes=1000)\n",
    "endtime = datetime.datetime.now() -start\n",
    "print (endtime)\n",
    "\n",
    "fig = plt.figure()\n",
    "ax = fig.add_subplot(111)\n",
    "plt.plot(np.arange(1, len(scores)+1), scores)\n",
    "plt.ylabel('Score')\n",
    "plt.xlabel('Episode #')\n",
    "plt.show()"
   ]
  },
  {
   "cell_type": "markdown",
   "metadata": {},
   "source": [
    "# Reward Plot"
   ]
  },
  {
   "cell_type": "code",
   "execution_count": 15,
   "metadata": {},
   "outputs": [
    {
     "data": {
      "image/png": "[encoded data removed]",
      "text/plain": [
       "<Figure size 432x288 with 1 Axes>"
      ]
     },
     "metadata": {
      "needs_background": "light"
     },
     "output_type": "display_data"
    }
   ],
   "source": [
    "#Plot with average line >30\n",
    "fig = plt.figure()\n",
    "ax = fig.add_subplot(111)\n",
    "plt.plot(np.arange(1, len(scores)+1), scores)\n",
    "plt.plot(np.arange(len(scores)), 30*np.ones(len(scores)))# print avg score 30\n",
    "plt.ylabel('Score')\n",
    "plt.xlabel('Episode #')\n",
    "plt.show()"
   ]
  },
  {
   "cell_type": "code",
   "execution_count": 10,
   "metadata": {},
   "outputs": [
    {
     "name": "stdout",
     "output_type": "stream",
     "text": [
      "2020-07-24 19:53:44.791327\n"
     ]
    },
    {
     "name": "stderr",
     "output_type": "stream",
     "text": [
      "C:\\Users\\senth\\.conda\\envs\\drlnd\\lib\\site-packages\\torch\\nn\\functional.py:1558: UserWarning: nn.functional.tanh is deprecated. Use torch.tanh instead.\n",
      "  warnings.warn(\"nn.functional.tanh is deprecated. Use torch.tanh instead.\")\n"
     ]
    },
    {
     "name": "stdout",
     "output_type": "stream",
     "text": [
      "Episode 100\tAverage  Score: 0.6680\t AcScore 66.8000\n",
      "\n",
      "Environment solved in 101 episodes!\tAverage Score: 67.1200\n",
      "0:06:24.060748\n"
     ]
    },
    {
     "data": {
      "image/png": "[encoded data removed]",
      "text/plain": [
       "<Figure size 432x288 with 1 Axes>"
      ]
     },
     "metadata": {
      "needs_background": "light"
     },
     "output_type": "display_data"
    }
   ],
   "source": [
    "# Iteration Ver 17.1 Over 100 Episodes  - Corrected Noise and (samples) from the â€œstandard normalâ€ distribution.\n",
    "#BUFFER_SIZE = 500000    #int(1e4)  # replay buffer size\n",
    "#BATCH_SIZE = 256       #128        # minibatch size\n",
    "#GAMMA = 0.997            # discount factor\n",
    "#TAU = 0.0013              # for soft update of target parameters\n",
    "#LR_ACTOR = 0.00013         # learning rate of the actor \n",
    "#LR_CRITIC = 0.0001        # learning rate of the critic\n",
    "#WEIGHT_DECAY = 0        # L2 weight decay\n",
    "\n",
    "#Noise mu=0., theta=0.17, sigma=0.24\n",
    "#Random seed = 1\n",
    "start = datetime.datetime.now()\n",
    "print (start)\n",
    "scores = Ddpg(n_episodes=1000)\n",
    "endtime = datetime.datetime.now() -start\n",
    "print (endtime)\n",
    "\n",
    "fig = plt.figure()\n",
    "ax = fig.add_subplot(111)\n",
    "plt.plot(np.arange(1, len(scores)+1), scores)\n",
    "plt.ylabel('Score')\n",
    "plt.xlabel('Episode #')\n",
    "plt.show()"
   ]
  },
  {
   "cell_type": "code",
   "execution_count": 10,
   "metadata": {},
   "outputs": [
    {
     "name": "stdout",
     "output_type": "stream",
     "text": [
      "2020-07-24 14:01:15.057867\n"
     ]
    },
    {
     "name": "stderr",
     "output_type": "stream",
     "text": [
      "C:\\Users\\senth\\.conda\\envs\\drlnd\\lib\\site-packages\\torch\\nn\\functional.py:1558: UserWarning: nn.functional.tanh is deprecated. Use torch.tanh instead.\n",
      "  warnings.warn(\"nn.functional.tanh is deprecated. Use torch.tanh instead.\")\n"
     ]
    },
    {
     "name": "stdout",
     "output_type": "stream",
     "text": [
      "Total score (averaged over agents) this episode 1\t: 0.42999999038875103\n",
      "Total score (averaged over agents) this episode 2\t: 0.9599999785423279\n",
      "Total score (averaged over agents) this episode 3\t: 2.079999953508377\n",
      "Total score (averaged over agents) this episode 4\t: 2.869999935850501\n",
      "Total score (averaged over agents) this episode 5\t: 3.4399999231100082\n",
      "Total score (averaged over agents) this episode 6\t: 5.14999988488853\n",
      "Total score (averaged over agents) this episode 7\t: 5.329999880865216\n",
      "Total score (averaged over agents) this episode 8\t: 5.9699998665601015\n",
      "Total score (averaged over agents) this episode 9\t: 7.799999825656414\n",
      "Total score (averaged over agents) this episode 10\t: 8.799999803304672\n",
      "Episode 10\tAverage  Score: 0.8800\t AcScore 8.8000\n",
      "Total score (averaged over agents) this episode 11\t: 9.619999784976244\n",
      "Total score (averaged over agents) this episode 12\t: 11.34999974630773\n",
      "Total score (averaged over agents) this episode 13\t: 11.609999740496278\n",
      "Total score (averaged over agents) this episode 14\t: 11.609999740496278\n",
      "Total score (averaged over agents) this episode 15\t: 12.42999972216785\n",
      "Total score (averaged over agents) this episode 16\t: 13.259999703615904\n",
      "Total score (averaged over agents) this episode 17\t: 14.129999684169888\n",
      "Total score (averaged over agents) this episode 18\t: 14.509999675676227\n",
      "Total score (averaged over agents) this episode 19\t: 14.999999664723873\n",
      "Total score (averaged over agents) this episode 20\t: 15.089999662712216\n",
      "Episode 20\tAverage  Score: 0.7545\t AcScore 15.0900\n",
      "Total score (averaged over agents) this episode 21\t: 16.389999633654952\n",
      "Total score (averaged over agents) this episode 22\t: 17.209999615326524\n",
      "Total score (averaged over agents) this episode 23\t: 17.57999960705638\n",
      "Total score (averaged over agents) this episode 24\t: 18.149999594315886\n",
      "Total score (averaged over agents) this episode 25\t: 18.999999575316906\n",
      "Total score (averaged over agents) this episode 26\t: 20.25999954715371\n",
      "Total score (averaged over agents) this episode 27\t: 20.94999953173101\n",
      "Total score (averaged over agents) this episode 28\t: 21.629999516531825\n",
      "Total score (averaged over agents) this episode 29\t: 22.42999949865043\n",
      "Total score (averaged over agents) this episode 30\t: 22.88999948836863\n",
      "Episode 30\tAverage  Score: 0.7630\t AcScore 22.8900\n",
      "Total score (averaged over agents) this episode 31\t: 24.289999457076192\n",
      "Total score (averaged over agents) this episode 32\t: 25.889999421313405\n",
      "Total score (averaged over agents) this episode 33\t: 26.25999941304326\n",
      "Total score (averaged over agents) this episode 34\t: 26.71999940276146\n",
      "Total score (averaged over agents) this episode 35\t: 27.549999384209514\n",
      "Total score (averaged over agents) this episode 36\t: 27.799999378621578\n",
      "Total score (averaged over agents) this episode 37\t: 29.019999351352453\n",
      "Total score (averaged over agents) this episode 38\t: 29.179999347776175\n",
      "Total score (averaged over agents) this episode 39\t: 29.799999333918095\n",
      "Total score (averaged over agents) this episode 40\t: 30.069999327883124\n",
      "Episode 40\tAverage  Score: 0.7517\t AcScore 30.0700\n",
      "\n",
      "Environment solved in 40 episodes!\tAverage Score: 30.0700\n",
      "0:02:11.374991\n"
     ]
    },
    {
     "data": {
      "image/png": "[encoded data removed]",
      "text/plain": [
       "<Figure size 432x288 with 1 Axes>"
      ]
     },
     "metadata": {
      "needs_background": "light"
     },
     "output_type": "display_data"
    }
   ],
   "source": [
    "# Iteration Ver 17  - Corrected Noise and (samples) from the â€œstandard normalâ€ distribution.\n",
    "#BUFFER_SIZE = 500000    #int(1e4)  # replay buffer size\n",
    "#BATCH_SIZE = 256       #128        # minibatch size\n",
    "#GAMMA = 0.997            # discount factor\n",
    "#TAU = 0.0013              # for soft update of target parameters\n",
    "#LR_ACTOR = 0.00013         # learning rate of the actor \n",
    "#LR_CRITIC = 0.0001        # learning rate of the critic\n",
    "#WEIGHT_DECAY = 0        # L2 weight decay\n",
    "\n",
    "#Noise mu=0., theta=0.17, sigma=0.24\n",
    "#Random seed = 1\n",
    "start = datetime.datetime.now()\n",
    "print (start)\n",
    "scores = Ddpg(n_episodes=500)\n",
    "endtime = datetime.datetime.now() -start\n",
    "print (endtime)\n",
    "\n",
    "fig = plt.figure()\n",
    "ax = fig.add_subplot(111)\n",
    "plt.plot(np.arange(1, len(scores)+1), scores)\n",
    "plt.ylabel('Score')\n",
    "plt.xlabel('Episode #')\n",
    "plt.show()"
   ]
  },
  {
   "cell_type": "code",
   "execution_count": 11,
   "metadata": {},
   "outputs": [
    {
     "data": {
      "image/png": "[encoded data removed]",
      "text/plain": [
       "<Figure size 432x288 with 1 Axes>"
      ]
     },
     "metadata": {
      "needs_background": "light"
     },
     "output_type": "display_data"
    }
   ],
   "source": [
    "#Plot with average line >30\n",
    "fig = plt.figure()\n",
    "ax = fig.add_subplot(111)\n",
    "plt.plot(np.arange(1, len(scores)+1), scores)\n",
    "plt.plot(np.arange(len(scores)), 30*np.ones(len(scores)))# print avg score 30\n",
    "plt.ylabel('Score')\n",
    "plt.xlabel('Episode #')\n",
    "plt.show()\n"
   ]
  },
  {
   "cell_type": "code",
   "execution_count": 12,
   "metadata": {},
   "outputs": [],
   "source": [
    "#backup for Reward plots \n",
    "scores_Epi40 = scores"
   ]
  },
  {
   "cell_type": "markdown",
   "metadata": {},
   "source": [
    "# Watch the Trained Agent - Loading the weights and Test\n"
   ]
  },
  {
   "cell_type": "code",
   "execution_count": 46,
   "metadata": {},
   "outputs": [
    {
     "name": "stdout",
     "output_type": "stream",
     "text": [
      "Total score (averaged over agents) this episode: 0.9399999789893627\n"
     ]
    }
   ],
   "source": [
    "reacherAI.actor_local.load_state_dict(torch.load('checkpoint_actor30.pth'))\n",
    "reacherAI.critic_local.load_state_dict(torch.load('checkpoint_critic30.pth'))\n",
    "\n",
    "env_info = env.reset(train_mode=False)[brain_name]\n",
    "scores = np.zeros(num_agents)       \n",
    "#set initial state\n",
    "state = env_info.vector_observations\n",
    "\n",
    "while True:\n",
    "    action = reacherAI.act(state, add_noise=True)\n",
    "    env_info = env.step(action)[brain_name]\n",
    "    next_state = env_info.vector_observations\n",
    "    reward = env_info.rewards\n",
    "    done   = env_info.local_done\n",
    "    scores += reward                       \n",
    "    state = next_state\n",
    "           \n",
    "    if np.any(done):\n",
    "        break\n",
    "print('Total score (averaged over agents) this episode: {}'.format(np.mean(scores)))  "
   ]
  },
  {
   "cell_type": "code",
   "execution_count": 22,
   "metadata": {},
   "outputs": [
    {
     "name": "stdout",
     "output_type": "stream",
     "text": [
      "Total score (averaged over agents) this episode: 1.0699999760836363\n"
     ]
    }
   ],
   "source": [
    "reacherAI.actor_local.load_state_dict(torch.load('checkpoint_actor30.pth'))\n",
    "reacherAI.critic_local.load_state_dict(torch.load('checkpoint_critic30.pth'))\n",
    "\n",
    "env_info = env.reset(train_mode=False)[brain_name]\n",
    "scores = np.zeros(num_agents)       \n",
    "#set initial state\n",
    "state = env_info.vector_observations\n",
    "\n",
    "while True:\n",
    "    action = reacherAI.act(state, add_noise=True)\n",
    "    env_info = env.step(action)[brain_name]\n",
    "    next_state = env_info.vector_observations\n",
    "    reward = env_info.rewards\n",
    "    done   = env_info.local_done\n",
    "    scores += reward                       \n",
    "    state = next_state\n",
    "           \n",
    "    if np.any(done):\n",
    "        break\n",
    "print('Total score (averaged over agents) this episode: {}'.format(np.mean(scores)))  "
   ]
  },
  {
   "cell_type": "code",
   "execution_count": 14,
   "metadata": {},
   "outputs": [],
   "source": [
    "#Environment Close\n",
    "env.close()"
   ]
  },
  {
   "cell_type": "markdown",
   "metadata": {},
   "source": [
    "# Target score 90. Environment solved in 901 episodes!\tAverage Score: 529.7200"
   ]
  },
  {
   "cell_type": "code",
   "execution_count": 24,
   "metadata": {},
   "outputs": [],
   "source": [
    "#Long Training aiming avg score 99\n",
    "# Deep Determinsitic Policy Gradient Algorithm\n",
    "# Policy Based -Actor Critic Method\n",
    "# Changes:\n",
    "    #Reward plot for Avg Agent's score for each episode\n",
    "    #Added learning at every state change\n",
    "\n",
    "def Ddpg(n_episodes=1000, max_t=300, print_every=100):\n",
    "    \n",
    "    scores_ddpg = []                           #Final Scores to Plot\n",
    "    rewards_plot = []\n",
    "    episode_reward=np.zeros(num_agents) \n",
    "    scores = np.zeros(num_agents)              #Reward for the Episodes reset\n",
    "    scores_window = deque(maxlen=print_every)  #Window for every 100 episodes\n",
    "    \n",
    "    for i_episode in range(1, n_episodes+1):\n",
    "        #reset the unity Env_info for each new episode\n",
    "        env_info = env.reset(train_mode=True)[brain_name]\n",
    "        \n",
    "        #set initial state\n",
    "        state = env_info.vector_observations  #[0] Current state \n",
    "        #Reset\n",
    "        reacherAI.reset()\n",
    "        rewards = 0\n",
    "        counter_i=0\n",
    "        episode_reward=np.zeros(num_agents) \n",
    "        #For each Episode,  take max steps and record the state and reward information until Episode complete       \n",
    "        while True: # t in range(max_t):\n",
    "            #Select action based on  policy based\n",
    "            action = reacherAI.act(state)\n",
    "            action = np.clip(action, -1, 1)          #all actions between -1 and 1\n",
    "            \n",
    "            env_info = env.step(action)[brain_name]   #Perform 'action'\n",
    "            next_state = env_info.vector_observations #Next env state info \n",
    "            rewards = env_info.rewards                 #reward +0.1 for every timestep\n",
    "            done   = env_info.local_done              #Episode complete\n",
    "            \n",
    "            scores += rewards                          #Accumulate Rewards\n",
    "            state = next_state                        #mark new state as current state\n",
    "            episode_reward+=rewards\n",
    "            \n",
    "            if np.any(done):\n",
    "                reacherAI.step (state, action,rewards,next_state,done) \n",
    "                #rewards_plot.append(episode_reward)              #Rewards from each episode's steps\n",
    "                rewards_plot.append(np.mean(scores))              #Avg Score for each episode\n",
    "                scores_window.append(episode_reward)             #Print the windows score\n",
    "                break             \n",
    "            \n",
    "        #Uncomment when you want to check the scores for  each episode \n",
    "        #print('Total score (averaged over agents) this episode {}\\t: {}'.format(i_episode,np.mean(scores)))  \n",
    "        \n",
    "        if i_episode % 50 == 0:\n",
    "            print('\\rEpisode {}\\tAverage  Score: {:.4f}\\t AcScore {:.4f}'.format(i_episode, np.mean(scores_window),np.mean(scores)))\n",
    "            torch.save(reacherAI.actor_local.state_dict(), 'checkpoint_actor.pth')\n",
    "            torch.save(reacherAI.critic_local.state_dict(), 'checkpoint_critic.pth')\n",
    "        if np.mean(scores)>=90.0 and i_episode>900: \n",
    "            print('\\nEnvironment solved in {:d} episodes!\\tAverage Score: {:.4f}'.format(i_episode, np.mean(scores)))\n",
    "            torch.save(reacherAI.actor_local.state_dict(), 'checkpoint_actor30.pth')\n",
    "            torch.save(reacherAI.critic_local.state_dict(), 'checkpoint_critic30.pth')\n",
    "            break\n",
    "              \n",
    "                   \n",
    "    return rewards_plot\n",
    "#Latest24"
   ]
  },
  {
   "cell_type": "code",
   "execution_count": 25,
   "metadata": {},
   "outputs": [
    {
     "name": "stdout",
     "output_type": "stream",
     "text": [
      "2020-07-24 21:25:22.376903\n",
      "Episode 50\tAverage  Score: 0.7222\t AcScore 36.1100\n",
      "Episode 100\tAverage  Score: 0.7257\t AcScore 72.5700\n",
      "Episode 150\tAverage  Score: 0.6937\t AcScore 105.4800\n",
      "Episode 200\tAverage  Score: 0.5960\t AcScore 132.1700\n",
      "Episode 250\tAverage  Score: 0.5472\t AcScore 160.2000\n",
      "Episode 300\tAverage  Score: 0.5737\t AcScore 189.5400\n",
      "Episode 350\tAverage  Score: 0.5664\t AcScore 216.8400\n",
      "Episode 400\tAverage  Score: 0.5827\t AcScore 247.8100\n",
      "Episode 450\tAverage  Score: 0.5976\t AcScore 276.6000\n",
      "Episode 500\tAverage  Score: 0.5842\t AcScore 306.2300\n",
      "Episode 550\tAverage  Score: 0.5804\t AcScore 334.6400\n",
      "Episode 600\tAverage  Score: 0.6033\t AcScore 366.5600\n",
      "Episode 650\tAverage  Score: 0.6068\t AcScore 395.3200\n",
      "Episode 700\tAverage  Score: 0.5607\t AcScore 422.6300\n",
      "Episode 750\tAverage  Score: 0.5323\t AcScore 448.5500\n",
      "Episode 800\tAverage  Score: 0.5514\t AcScore 477.7700\n",
      "Episode 850\tAverage  Score: 0.5324\t AcScore 501.7900\n",
      "Episode 900\tAverage  Score: 0.5109\t AcScore 528.8600\n",
      "\n",
      "Environment solved in 901 episodes!\tAverage Score: 529.7200\n",
      "0:55:43.315424\n"
     ]
    },
    {
     "data": {
      "image/png": "[encoded data removed]",
      "text/plain": [
       "<Figure size 432x288 with 1 Axes>"
      ]
     },
     "metadata": {
      "needs_background": "light"
     },
     "output_type": "display_data"
    }
   ],
   "source": [
    "# Iteration Ver 24  - aims to get Avg score >90\n",
    "#BUFFER_SIZE = 500000    #int(1e4)  # replay buffer size\n",
    "#BATCH_SIZE = 256       #128        # minibatch size\n",
    "#GAMMA = 0.997            # discount factor\n",
    "#TAU = 0.0013              # for soft update of target parameters\n",
    "#LR_ACTOR = 0.00013         # learning rate of the actor \n",
    "#LR_CRITIC = 0.0001        # learning rate of the critic\n",
    "#WEIGHT_DECAY = 0        # L2 weight decay\n",
    "\n",
    "#Noise mu=0., theta=0.17, sigma=0.24\n",
    "#Random seed = 1\n",
    "start = datetime.datetime.now()\n",
    "print (start)\n",
    "scores = Ddpg(n_episodes=50000)\n",
    "endtime = datetime.datetime.now() -start\n",
    "print (endtime)\n",
    "\n",
    "fig = plt.figure()\n",
    "ax = fig.add_subplot(111)\n",
    "plt.plot(np.arange(1, len(scores)+1), scores)\n",
    "plt.ylabel('Score')\n",
    "plt.xlabel('Episode #')\n",
    "plt.show()"
   ]
  },
  {
   "cell_type": "code",
   "execution_count": 27,
   "metadata": {},
   "outputs": [
    {
     "data": {
      "image/png": "[encoded data removed]",
      "text/plain": [
       "<Figure size 432x288 with 1 Axes>"
      ]
     },
     "metadata": {
      "needs_background": "light"
     },
     "output_type": "display_data"
    }
   ],
   "source": [
    "#Plot with average line >90\n",
    "fig = plt.figure()\n",
    "ax = fig.add_subplot(111)\n",
    "plt.plot(np.arange(1, len(scores)+1), scores)\n",
    "plt.plot(np.arange(len(scores)), 30*np.ones(len(scores)))# print avg score 30\n",
    "plt.ylabel('Score')\n",
    "plt.xlabel('Episode #')\n",
    "plt.show()"
   ]
  },
  {
   "cell_type": "code",
   "execution_count": 37,
   "metadata": {},
   "outputs": [],
   "source": [
    "#Long Training aiming avg score 99\n",
    "# Deep Determinsitic Policy Gradient Algorithm\n",
    "# Policy Based -Actor Critic Method\n",
    "# Changes:\n",
    "    #Reward plot for Avg Agent's score for each episode\n",
    "    #Added learning at every state change\n",
    "\n",
    "def Ddpg(n_episodes=1000, max_t=300, print_every=100):\n",
    "    \n",
    "    scores_ddpg = []                           #Final Scores to Plot\n",
    "    rewards_plot = []\n",
    "    episode_reward=np.zeros(num_agents) \n",
    "    scores = np.zeros(num_agents)              #Reward for the Episodes reset\n",
    "    scores_window = deque(maxlen=print_every)  #Window for every 100 episodes\n",
    "    \n",
    "    for i_episode in range(1, n_episodes+1):\n",
    "        #reset the unity Env_info for each new episode\n",
    "        env_info = env.reset(train_mode=True)[brain_name]\n",
    "        \n",
    "        #set initial state\n",
    "        state = env_info.vector_observations  #[0] Current state \n",
    "        #Reset\n",
    "        reacherAI.reset()\n",
    "        rewards = 0\n",
    "        counter_i=0\n",
    "        episode_reward=np.zeros(num_agents) \n",
    "        #For each Episode,  take max steps and record the state and reward information until Episode complete       \n",
    "        while True: # t in range(max_t):\n",
    "            #Select action based on  policy based\n",
    "            action = reacherAI.act(state)\n",
    "            action = np.clip(action, -1, 1)          #all actions between -1 and 1\n",
    "            \n",
    "            env_info = env.step(action)[brain_name]   #Perform 'action'\n",
    "            next_state = env_info.vector_observations #Next env state info \n",
    "            rewards = env_info.rewards                 #reward +0.1 for every timestep\n",
    "            done   = env_info.local_done              #Episode complete\n",
    "            \n",
    "            scores += rewards                          #Accumulate Rewards\n",
    "            state = next_state                        #mark new state as current state\n",
    "            episode_reward+=rewards\n",
    "            \n",
    "            if np.any(done):\n",
    "                reacherAI.step (state, action,rewards,next_state,done) \n",
    "                #rewards_plot.append(episode_reward)              #Rewards from each episode's steps\n",
    "                rewards_plot.append(np.mean(scores))              #Avg Score for each episode\n",
    "                scores_window.append(episode_reward)             #Print the windows score\n",
    "                break             \n",
    "            \n",
    "        #Uncomment when you want to check the scores for  each episode \n",
    "        #print('Total score (averaged over agents) this episode {}\\t: {}'.format(i_episode,np.mean(scores)))  \n",
    "        \n",
    "        if i_episode % 50 == 0:\n",
    "            print('\\rEpisode {}\\tAverage  Score: {:.4f}\\t AcScore {:.4f}'.format(i_episode, np.mean(scores_window),np.mean(scores)))\n",
    "            torch.save(reacherAI.actor_local.state_dict(), 'checkpoint_actor.pth')\n",
    "            torch.save(reacherAI.critic_local.state_dict(), 'checkpoint_critic.pth')\n",
    "        if np.mean(scores_window)>30.0 and i_episode>100: \n",
    "            print('\\nEnvironment solved in {:d} episodes!\\tAverage Score: {:.4f}'.format(i_episode, np.mean(scores)))\n",
    "            torch.save(reacherAI.actor_local.state_dict(), 'checkpoint_actor30.pth')\n",
    "            torch.save(reacherAI.critic_local.state_dict(), 'checkpoint_critic30.pth')\n",
    "            break\n",
    "              \n",
    "                   \n",
    "    return scores_window #rewards_plot\n",
    "#Latest24"
   ]
  },
  {
   "cell_type": "code",
   "execution_count": 39,
   "metadata": {},
   "outputs": [
    {
     "name": "stdout",
     "output_type": "stream",
     "text": [
      "2020-07-24 23:26:35.998308\n"
     ]
    },
    {
     "name": "stderr",
     "output_type": "stream",
     "text": [
      "C:\\Users\\senth\\.conda\\envs\\drlnd\\lib\\site-packages\\torch\\nn\\functional.py:1558: UserWarning: nn.functional.tanh is deprecated. Use torch.tanh instead.\n",
      "  warnings.warn(\"nn.functional.tanh is deprecated. Use torch.tanh instead.\")\n"
     ]
    },
    {
     "name": "stdout",
     "output_type": "stream",
     "text": [
      "Episode 50\tAverage  Score: 0.4474\t AcScore 22.3700\n",
      "Episode 100\tAverage  Score: 0.5048\t AcScore 50.4800\n",
      "Episode 150\tAverage  Score: 0.5517\t AcScore 77.5400\n",
      "Episode 200\tAverage  Score: 0.5678\t AcScore 107.2600\n",
      "Episode 250\tAverage  Score: 0.5484\t AcScore 132.3800\n",
      "Episode 300\tAverage  Score: 0.5179\t AcScore 159.0500\n",
      "Episode 350\tAverage  Score: 0.5130\t AcScore 183.6800\n",
      "Episode 400\tAverage  Score: 0.5026\t AcScore 209.3100\n",
      "Episode 450\tAverage  Score: 0.5334\t AcScore 237.0200\n",
      "Episode 500\tAverage  Score: 0.5256\t AcScore 261.8700\n",
      "Episode 550\tAverage  Score: 0.5630\t AcScore 293.3200\n",
      "Episode 600\tAverage  Score: 0.6495\t AcScore 326.8200\n",
      "Episode 650\tAverage  Score: 0.6012\t AcScore 353.4400\n",
      "Episode 700\tAverage  Score: 0.5396\t AcScore 380.7800\n",
      "Episode 750\tAverage  Score: 0.5729\t AcScore 410.7300\n",
      "Episode 800\tAverage  Score: 0.5453\t AcScore 435.3100\n",
      "Episode 850\tAverage  Score: 0.4761\t AcScore 458.3400\n",
      "Episode 900\tAverage  Score: 0.4827\t AcScore 483.5800\n",
      "Episode 950\tAverage  Score: 0.5594\t AcScore 514.2800\n",
      "Episode 1000\tAverage  Score: 0.5979\t AcScore 543.3700\n",
      "Episode 1050\tAverage  Score: 0.6141\t AcScore 575.6900\n",
      "Episode 1100\tAverage  Score: 0.6418\t AcScore 607.5500\n",
      "Episode 1150\tAverage  Score: 0.6395\t AcScore 639.6400\n",
      "Episode 1200\tAverage  Score: 0.6298\t AcScore 670.5300\n",
      "Episode 1250\tAverage  Score: 0.6763\t AcScore 707.2700\n",
      "Episode 1300\tAverage  Score: 0.6699\t AcScore 737.5200\n",
      "Episode 1350\tAverage  Score: 0.5987\t AcScore 767.1400\n",
      "Episode 1400\tAverage  Score: 0.6847\t AcScore 805.9900\n",
      "Episode 1450\tAverage  Score: 0.6871\t AcScore 835.8500\n",
      "Episode 1500\tAverage  Score: 0.6539\t AcScore 871.3800\n",
      "Episode 1550\tAverage  Score: 0.6758\t AcScore 903.4300\n",
      "Episode 1600\tAverage  Score: 0.6207\t AcScore 933.4500\n",
      "Episode 1650\tAverage  Score: 0.5821\t AcScore 961.6400\n",
      "Episode 1700\tAverage  Score: 0.5849\t AcScore 991.9400\n",
      "Episode 1750\tAverage  Score: 0.6178\t AcScore 1023.4200\n",
      "Episode 1800\tAverage  Score: 0.6311\t AcScore 1055.0500\n",
      "Episode 1850\tAverage  Score: 0.6208\t AcScore 1085.5000\n",
      "Episode 1900\tAverage  Score: 0.6279\t AcScore 1117.8400\n",
      "Episode 1950\tAverage  Score: 0.6791\t AcScore 1153.4100\n",
      "Episode 2000\tAverage  Score: 0.6814\t AcScore 1185.9800\n",
      "Episode 2050\tAverage  Score: 0.7035\t AcScore 1223.7600\n",
      "Episode 2100\tAverage  Score: 0.7156\t AcScore 1257.5400\n",
      "Episode 2150\tAverage  Score: 0.6559\t AcScore 1289.3500\n",
      "Episode 2200\tAverage  Score: 0.6262\t AcScore 1320.1600\n",
      "Episode 2250\tAverage  Score: 0.5969\t AcScore 1349.0400\n",
      "Episode 2300\tAverage  Score: 0.6445\t AcScore 1384.6100\n",
      "Episode 2350\tAverage  Score: 0.7072\t AcScore 1419.7600\n",
      "Episode 2400\tAverage  Score: 0.6260\t AcScore 1447.2100\n",
      "Episode 2450\tAverage  Score: 0.5913\t AcScore 1478.8900\n",
      "Episode 2500\tAverage  Score: 0.6187\t AcScore 1509.0800\n",
      "Episode 2550\tAverage  Score: 0.6163\t AcScore 1540.5200\n",
      "Episode 2600\tAverage  Score: 0.6187\t AcScore 1570.9500\n",
      "Episode 2650\tAverage  Score: 0.5977\t AcScore 1600.2900\n",
      "Episode 2700\tAverage  Score: 0.6037\t AcScore 1631.3200\n",
      "Episode 2750\tAverage  Score: 0.6748\t AcScore 1667.7700\n",
      "Episode 2800\tAverage  Score: 0.6921\t AcScore 1700.5300\n",
      "Episode 2850\tAverage  Score: 0.6236\t AcScore 1730.1300\n",
      "Episode 2900\tAverage  Score: 0.6442\t AcScore 1764.9500\n",
      "Episode 2950\tAverage  Score: 0.6690\t AcScore 1797.0300\n",
      "Episode 3000\tAverage  Score: 0.6893\t AcScore 1833.8800\n",
      "Episode 3050\tAverage  Score: 0.6502\t AcScore 1862.0500\n",
      "Episode 3100\tAverage  Score: 0.5898\t AcScore 1892.8600\n",
      "Episode 3150\tAverage  Score: 0.6603\t AcScore 1928.0800\n",
      "Episode 3200\tAverage  Score: 0.6576\t AcScore 1958.6200\n",
      "Episode 3250\tAverage  Score: 0.6285\t AcScore 1990.9300\n",
      "Episode 3300\tAverage  Score: 0.6977\t AcScore 2028.3900\n",
      "Episode 3350\tAverage  Score: 0.7624\t AcScore 2067.1700\n",
      "Episode 3400\tAverage  Score: 0.7009\t AcScore 2098.4800\n",
      "Episode 3450\tAverage  Score: 0.6577\t AcScore 2132.9400\n",
      "Episode 3500\tAverage  Score: 0.6336\t AcScore 2161.8400\n",
      "Episode 3550\tAverage  Score: 0.6213\t AcScore 2195.0700\n",
      "Episode 3600\tAverage  Score: 0.6490\t AcScore 2226.7400\n",
      "Episode 3650\tAverage  Score: 0.6016\t AcScore 2255.2299\n",
      "Episode 3700\tAverage  Score: 0.6228\t AcScore 2289.0199\n",
      "Episode 3750\tAverage  Score: 0.6241\t AcScore 2317.6399\n",
      "Episode 3800\tAverage  Score: 0.6177\t AcScore 2350.7899\n",
      "Episode 3850\tAverage  Score: 0.6406\t AcScore 2381.6999\n",
      "Episode 3900\tAverage  Score: 0.6653\t AcScore 2417.3199\n",
      "Episode 3950\tAverage  Score: 0.6417\t AcScore 2445.8699\n",
      "Episode 4000\tAverage  Score: 0.5383\t AcScore 2471.1499\n",
      "Episode 4050\tAverage  Score: 0.5380\t AcScore 2499.6699\n",
      "Episode 4100\tAverage  Score: 0.5477\t AcScore 2525.9199\n",
      "Episode 4150\tAverage  Score: 0.6122\t AcScore 2560.8899\n",
      "Episode 4200\tAverage  Score: 0.6931\t AcScore 2595.2299\n",
      "Episode 4250\tAverage  Score: 0.6591\t AcScore 2626.7999\n",
      "Episode 4300\tAverage  Score: 0.6134\t AcScore 2656.5699\n",
      "Episode 4350\tAverage  Score: 0.6150\t AcScore 2688.2999\n",
      "Episode 4400\tAverage  Score: 0.6304\t AcScore 2719.6099\n",
      "Episode 4450\tAverage  Score: 0.5463\t AcScore 2742.9299\n",
      "Episode 4500\tAverage  Score: 0.5794\t AcScore 2777.5499\n",
      "Episode 4550\tAverage  Score: 0.6652\t AcScore 2809.4499\n",
      "Episode 4600\tAverage  Score: 0.6540\t AcScore 2842.9499\n",
      "Episode 4650\tAverage  Score: 0.6148\t AcScore 2870.9299\n",
      "Episode 4700\tAverage  Score: 0.5898\t AcScore 2901.9299\n",
      "Episode 4750\tAverage  Score: 0.6079\t AcScore 2931.7199\n",
      "Episode 4800\tAverage  Score: 0.6401\t AcScore 2965.9399\n",
      "Episode 4850\tAverage  Score: 0.6508\t AcScore 2996.7999\n",
      "Episode 4900\tAverage  Score: 0.6299\t AcScore 3028.9299\n",
      "Episode 4950\tAverage  Score: 0.6675\t AcScore 3063.5499\n",
      "Episode 5000\tAverage  Score: 0.6292\t AcScore 3091.8499\n",
      "Episode 5050\tAverage  Score: 0.5976\t AcScore 3123.3099\n",
      "Episode 5100\tAverage  Score: 0.6323\t AcScore 3155.0799\n",
      "Episode 5150\tAverage  Score: 0.6733\t AcScore 3190.6399\n",
      "Episode 5200\tAverage  Score: 0.6507\t AcScore 3220.1499\n",
      "Episode 5250\tAverage  Score: 0.5409\t AcScore 3244.7299\n",
      "Episode 5300\tAverage  Score: 0.5297\t AcScore 3273.1199\n",
      "Episode 5350\tAverage  Score: 0.5708\t AcScore 3301.8099\n",
      "Episode 5400\tAverage  Score: 0.5926\t AcScore 3332.3799\n",
      "Episode 5450\tAverage  Score: 0.5916\t AcScore 3360.9699\n",
      "Episode 5500\tAverage  Score: 0.5677\t AcScore 3389.1499\n",
      "Episode 5550\tAverage  Score: 0.5613\t AcScore 3417.0999\n",
      "Episode 5600\tAverage  Score: 0.6232\t AcScore 3451.4699\n",
      "Episode 5650\tAverage  Score: 0.6324\t AcScore 3480.3399\n",
      "Episode 5700\tAverage  Score: 0.5662\t AcScore 3508.0899\n",
      "Episode 5750\tAverage  Score: 0.5465\t AcScore 3534.9899\n",
      "Episode 5800\tAverage  Score: 0.6390\t AcScore 3571.9899\n",
      "Episode 5850\tAverage  Score: 0.6878\t AcScore 3603.7699\n",
      "Episode 5900\tAverage  Score: 0.6567\t AcScore 3637.6599\n",
      "Episode 5950\tAverage  Score: 0.6556\t AcScore 3669.3299\n",
      "Episode 6000\tAverage  Score: 0.5773\t AcScore 3695.3899\n",
      "Episode 6050\tAverage  Score: 0.5550\t AcScore 3724.8299\n",
      "Episode 6100\tAverage  Score: 0.5861\t AcScore 3753.9999\n",
      "Episode 6150\tAverage  Score: 0.5733\t AcScore 3782.1599\n",
      "Episode 6200\tAverage  Score: 0.6261\t AcScore 3816.6099\n",
      "Episode 6250\tAverage  Score: 0.6195\t AcScore 3844.1099\n",
      "Episode 6300\tAverage  Score: 0.5563\t AcScore 3872.2399\n",
      "Episode 6350\tAverage  Score: 0.5883\t AcScore 3902.9399\n",
      "Episode 6400\tAverage  Score: 0.5970\t AcScore 3931.9399\n",
      "Episode 6450\tAverage  Score: 0.5560\t AcScore 3958.5399\n",
      "Episode 6500\tAverage  Score: 0.5171\t AcScore 3983.6499\n",
      "Episode 6550\tAverage  Score: 0.5478\t AcScore 4013.3199\n",
      "Episode 6600\tAverage  Score: 0.5482\t AcScore 4038.4699\n",
      "Episode 6650\tAverage  Score: 0.5199\t AcScore 4065.3099\n",
      "Episode 6700\tAverage  Score: 0.5641\t AcScore 4094.8799\n",
      "Episode 6750\tAverage  Score: 0.5598\t AcScore 4121.2899\n",
      "Episode 6800\tAverage  Score: 0.5491\t AcScore 4149.7899\n",
      "Episode 6850\tAverage  Score: 0.5528\t AcScore 4176.5699\n",
      "Episode 6900\tAverage  Score: 0.5872\t AcScore 4208.5099\n",
      "Episode 6950\tAverage  Score: 0.6172\t AcScore 4238.2899\n",
      "Episode 7000\tAverage  Score: 0.6016\t AcScore 4268.6699\n",
      "Episode 7050\tAverage  Score: 0.5930\t AcScore 4297.5899\n",
      "Episode 7100\tAverage  Score: 0.5700\t AcScore 4325.6699\n",
      "Episode 7150\tAverage  Score: 0.5565\t AcScore 4353.2399\n",
      "Episode 7200\tAverage  Score: 0.5645\t AcScore 4382.1199\n",
      "Episode 7250\tAverage  Score: 0.6158\t AcScore 4414.8199\n",
      "Episode 7300\tAverage  Score: 0.6189\t AcScore 4444.0099\n",
      "Episode 7350\tAverage  Score: 0.5848\t AcScore 4473.2999\n",
      "Episode 7400\tAverage  Score: 0.5943\t AcScore 4503.4399\n",
      "Episode 7450\tAverage  Score: 0.6026\t AcScore 4533.5599\n",
      "Episode 7500\tAverage  Score: 0.5775\t AcScore 4561.1899\n",
      "Episode 7550\tAverage  Score: 0.5787\t AcScore 4591.4299\n",
      "Episode 7600\tAverage  Score: 0.5948\t AcScore 4620.6699\n",
      "Episode 7650\tAverage  Score: 0.5899\t AcScore 4650.4199\n",
      "Episode 7700\tAverage  Score: 0.5547\t AcScore 4676.1399\n",
      "Episode 7750\tAverage  Score: 0.5727\t AcScore 4707.6899\n",
      "Episode 7800\tAverage  Score: 0.6203\t AcScore 4738.1699\n",
      "Episode 7850\tAverage  Score: 0.5841\t AcScore 4766.0999\n",
      "Episode 7900\tAverage  Score: 0.5465\t AcScore 4792.8199\n",
      "Episode 7950\tAverage  Score: 0.5317\t AcScore 4819.2699\n",
      "Episode 8000\tAverage  Score: 0.4623\t AcScore 4839.0499\n",
      "Episode 8050\tAverage  Score: 0.4807\t AcScore 4867.3399\n",
      "Episode 8100\tAverage  Score: 0.5681\t AcScore 4895.8599\n",
      "Episode 8150\tAverage  Score: 0.5592\t AcScore 4923.2599\n",
      "Episode 8200\tAverage  Score: 0.5620\t AcScore 4952.0599\n",
      "Episode 8250\tAverage  Score: 0.5315\t AcScore 4976.4099\n",
      "Episode 8300\tAverage  Score: 0.5578\t AcScore 5007.8399\n",
      "Episode 8350\tAverage  Score: 0.5847\t AcScore 5034.8799\n",
      "Episode 8400\tAverage  Score: 0.5478\t AcScore 5062.6199\n",
      "Episode 8450\tAverage  Score: 0.5695\t AcScore 5091.8299\n",
      "Episode 8500\tAverage  Score: 0.6105\t AcScore 5123.6699\n",
      "Episode 8550\tAverage  Score: 0.6203\t AcScore 5153.8599\n",
      "Episode 8600\tAverage  Score: 0.5980\t AcScore 5183.4699\n",
      "Episode 8650\tAverage  Score: 0.5945\t AcScore 5213.3099\n",
      "Episode 8700\tAverage  Score: 0.6167\t AcScore 5245.1399\n",
      "Episode 8750\tAverage  Score: 0.5969\t AcScore 5272.9999\n",
      "Episode 8800\tAverage  Score: 0.5705\t AcScore 5302.1899\n",
      "Episode 8850\tAverage  Score: 0.5853\t AcScore 5331.5299\n",
      "Episode 8900\tAverage  Score: 0.5919\t AcScore 5361.3799\n",
      "Episode 8950\tAverage  Score: 0.5924\t AcScore 5390.7699\n",
      "Episode 9000\tAverage  Score: 0.6096\t AcScore 5422.3399\n",
      "Episode 9050\tAverage  Score: 0.6394\t AcScore 5454.7099\n",
      "Episode 9100\tAverage  Score: 0.6446\t AcScore 5486.7999\n",
      "Episode 9150\tAverage  Score: 0.6479\t AcScore 5519.4999\n",
      "Episode 9200\tAverage  Score: 0.6254\t AcScore 5549.3399\n",
      "Episode 9250\tAverage  Score: 0.6493\t AcScore 5584.4299\n",
      "Episode 9300\tAverage  Score: 0.6077\t AcScore 5610.1099\n",
      "Episode 9350\tAverage  Score: 0.5823\t AcScore 5642.6599\n",
      "Episode 9400\tAverage  Score: 0.6562\t AcScore 5675.7299\n",
      "Episode 9450\tAverage  Score: 0.6866\t AcScore 5711.3199\n",
      "Episode 9500\tAverage  Score: 0.6605\t AcScore 5741.7799\n",
      "Episode 9550\tAverage  Score: 0.6414\t AcScore 5775.4599\n",
      "Episode 9600\tAverage  Score: 0.6621\t AcScore 5807.9899\n",
      "Episode 9650\tAverage  Score: 0.6388\t AcScore 5839.3399\n",
      "Episode 9700\tAverage  Score: 0.5615\t AcScore 5864.1399\n",
      "Episode 9750\tAverage  Score: 0.5966\t AcScore 5898.9999\n",
      "Episode 9800\tAverage  Score: 0.6452\t AcScore 5928.6599\n",
      "Episode 9850\tAverage  Score: 0.5730\t AcScore 5956.2999\n",
      "Episode 9900\tAverage  Score: 0.6209\t AcScore 5990.7499\n",
      "Episode 9950\tAverage  Score: 0.6490\t AcScore 6021.1999\n",
      "Episode 10000\tAverage  Score: 0.5980\t AcScore 6050.5499\n",
      "12:01:51.906382\n"
     ]
    },
    {
     "data": {
      "image/png": "[encoded data removed]",
      "text/plain": [
       "<Figure size 432x288 with 1 Axes>"
      ]
     },
     "metadata": {
      "needs_background": "light"
     },
     "output_type": "display_data"
    }
   ],
   "source": [
    "#Plot with average score for each episode  >30 \n",
    "start = datetime.datetime.now()\n",
    "print (start)\n",
    "scores = Ddpg(n_episodes=10000)\n",
    "endtime = datetime.datetime.now() -start\n",
    "print (endtime)\n",
    "fig = plt.figure()\n",
    "ax = fig.add_subplot(111)\n",
    "plt.plot(np.arange(1, len(scores)+1), scores)\n",
    "plt.plot(np.arange(len(scores)), 30*np.ones(len(scores)))# print avg score 30\n",
    "plt.ylabel('Score')\n",
    "plt.xlabel('Episode #')\n",
    "plt.show()"
   ]
  },
  {
   "cell_type": "code",
   "execution_count": 40,
   "metadata": {},
   "outputs": [],
   "source": [
    "scores_bkup=scores"
   ]
  },
  {
   "cell_type": "code",
   "execution_count": 41,
   "metadata": {},
   "outputs": [
    {
     "data": {
      "image/png": "[encoded data removed]",
      "text/plain": [
       "<Figure size 432x288 with 1 Axes>"
      ]
     },
     "metadata": {
      "needs_background": "light"
     },
     "output_type": "display_data"
    }
   ],
   "source": [
    "fig = plt.figure()\n",
    "ax = fig.add_subplot(111)\n",
    "plt.plot(np.arange(1, len(scores)+1), scores)\n",
    "plt.plot(np.arange(len(scores)), np.mean(scores)*np.ones(len(scores)))# print avg score 30\n",
    "plt.ylabel('Score')\n",
    "plt.xlabel('Episode #')\n",
    "plt.show()"
   ]
  },
  {
   "cell_type": "code",
   "execution_count": 35,
   "metadata": {},
   "outputs": [
    {
     "data": {
      "image/png": "[encoded data removed]",
      "text/plain": [
       "<Figure size 432x288 with 1 Axes>"
      ]
     },
     "metadata": {
      "needs_background": "light"
     },
     "output_type": "display_data"
    }
   ],
   "source": [
    "#Plot with average score >30 but plot each Episode avg score\n",
    "#start = datetime.datetime.now()\n",
    "#print (start)\n",
    "#scores = Ddpg(n_episodes=5000)\n",
    "#endtime = datetime.datetime.now() -start\n",
    "#print (endtime)\"\"\n",
    "fig = plt.figure()\n",
    "ax = fig.add_subplot(111)\n",
    "plt.plot(np.arange(1, len(scores)+1), scores)\n",
    "#plt.plot(np.arange(len(scores)), 30*np.ones(len(scores)))# print avg score 30\n",
    "plt.ylabel('Avg Window Score')\n",
    "plt.xlabel('Episode #')\n",
    "plt.show()"
   ]
  },
  {
   "cell_type": "code",
   "execution_count": null,
   "metadata": {},
   "outputs": [],
   "source": []
  }
 ],
 "metadata": {
  "kernelspec": {
   "display_name": "drlnd",
   "language": "python",
   "name": "drlnd"
  },
  "language_info": {
   "codemirror_mode": {
    "name": "ipython",
    "version": 3
   },
   "file_extension": ".py",
   "mimetype": "text/x-python",
   "name": "python",
   "nbconvert_exporter": "python",
   "pygments_lexer": "ipython3",
   "version": "3.6.10"
  }
 },
 "nbformat": 4,
 "nbformat_minor": 2
}
